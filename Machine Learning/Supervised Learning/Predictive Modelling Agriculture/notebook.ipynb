{
 "cells": [
  {
   "cell_type": "markdown",
   "id": "d3d001b0-2e2f-4b58-8442-99520bad831f",
   "metadata": {},
   "source": [
    "# Sowing Success: How Machine Learning Helps Farmers Select the Best Crops\n",
    "\n",
    "![Farmer in a field](farmer_in_a_field.jpg)\n",
    "\n",
    "Measuring essential soil metrics such as nitrogen, phosphorous, potassium levels, and pH value is an important aspect of assessing soil condition. However, it can be an expensive and time-consuming process, which can cause farmers to prioritize which metrics to measure based on their budget constraints.\n",
    "\n",
    "Farmers have various options when it comes to deciding which crop to plant each season. Their primary objective is to maximize the yield of their crops, taking into account different factors. One crucial factor that affects crop growth is the condition of the soil in the field, which can be assessed by measuring basic elements such as nitrogen and potassium levels. Each crop has an ideal soil condition that ensures optimal growth and maximum yield.\n",
    "\n",
    "A farmer reached out to you as a machine learning expert for assistance in selecting the best crop for his field. They've provided you with a dataset called `soil_measures.csv`, which contains:\n",
    "\n",
    "- `\"N\"`: Nitrogen content ratio in the soil\n",
    "- `\"P\"`: Phosphorous content ratio in the soil\n",
    "- `\"K\"`: Potassium content ratio in the soil\n",
    "- `\"pH\"` value of the soil\n",
    "- `\"crop\"`: categorical values that contain various crops (target variable).\n",
    "\n",
    "Each row in this dataset represents various measures of the soil in a particular field. Based on these measurements, the crop specified in the `\"crop\"` column is the optimal choice for that field.  \n",
    "\n",
    "In this project, you will build multi-class classification models to predict the type of `\"crop\"` and identify the single most importance feature for predictive performance."
   ]
  },
  {
   "cell_type": "markdown",
   "id": "5cc0a687-5072-4059-a7a6-29cfff1dcce4",
   "metadata": {},
   "source": [
    "## Exploratory Data Analysis"
   ]
  },
  {
   "cell_type": "code",
   "execution_count": null,
   "id": "d0eb4f16-5a99-460d-a5ba-706b7ef0bbe7",
   "metadata": {
    "collapsed": true,
    "executionCancelledAt": null,
    "executionTime": 51,
    "id": "bA5ajAmk7XH6",
    "jupyter": {
     "outputs_hidden": true,
     "source_hidden": false
    },
    "lastExecutedAt": 1742211283224,
    "lastExecutedByKernel": "ae7163a0-2db1-46cd-b7f6-76c01ca156d1",
    "lastScheduledRunId": null,
    "lastSuccessfullyExecutedCode": "# All required libraries are imported here for you.\nimport pandas as pd\nfrom sklearn.linear_model import LogisticRegression\nfrom sklearn.model_selection import train_test_split\nfrom sklearn.preprocessing import StandardScaler\nfrom sklearn import metrics\n\n# Load the dataset\ncrops = pd.read_csv(\"soil_measures.csv\")\n\n#Getting the first few rows in the dataset to familiarize\nprint(crops.head())\n#checking for any missing values that can be dropped or imputed\nprint(crops.isna().sum().sort_values())\n#checking types of crops (target variable)\nprint(crops[\"crop\"].unique())",
    "outputsMetadata": {
     "0": {
      "height": 353,
      "type": "stream"
     }
    }
   },
   "outputs": [
    {
     "name": "stdout",
     "output_type": "stream",
     "text": [
      "    N   P   K        ph  crop\n",
      "0  90  42  43  6.502985  rice\n",
      "1  85  58  41  7.038096  rice\n",
      "2  60  55  44  7.840207  rice\n",
      "3  74  35  40  6.980401  rice\n",
      "4  78  42  42  7.628473  rice\n",
      "N       0\n",
      "P       0\n",
      "K       0\n",
      "ph      0\n",
      "crop    0\n",
      "dtype: int64\n",
      "['rice' 'maize' 'chickpea' 'kidneybeans' 'pigeonpeas' 'mothbeans'\n",
      " 'mungbean' 'blackgram' 'lentil' 'pomegranate' 'banana' 'mango' 'grapes'\n",
      " 'watermelon' 'muskmelon' 'apple' 'orange' 'papaya' 'coconut' 'cotton'\n",
      " 'jute' 'coffee']\n"
     ]
    }
   ],
   "source": [
    "#Import neccassary libraires\n",
    "import pandas as pd\n",
    "from sklearn.linear_model import LogisticRegression\n",
    "from sklearn.model_selection import train_test_split\n",
    "from sklearn.preprocessing import StandardScaler\n",
    "from sklearn import metrics\n",
    "\n",
    "# Load the dataset\n",
    "crops = pd.read_csv(\"soil_measures.csv\")\n",
    "\n",
    "#Getting the first few rows in the dataset to familiarize\n",
    "print(crops.head())\n",
    "#checking for any missing values that can be dropped or imputed\n",
    "print(crops.isna().sum().sort_values())\n",
    "#checking types of crops (target variable)\n",
    "print(crops[\"crop\"].unique())"
   ]
  },
  {
   "cell_type": "markdown",
   "id": "8470b43a-daa1-40ad-b958-e169ffe62df8",
   "metadata": {},
   "source": [
    "## Split the data"
   ]
  },
  {
   "cell_type": "code",
   "execution_count": 41,
   "id": "ee36cea5-7416-40b1-a637-bc21616510b9",
   "metadata": {
    "collapsed": true,
    "executionCancelledAt": null,
    "executionTime": 51,
    "jupyter": {
     "outputs_hidden": true,
     "source_hidden": false
    },
    "lastExecutedAt": 1742211283276,
    "lastExecutedByKernel": "ae7163a0-2db1-46cd-b7f6-76c01ca156d1",
    "lastScheduledRunId": null,
    "lastSuccessfullyExecutedCode": "X = crops.drop(\"crop\",axis=1)\ny = crops[\"crop\"]\n#splitting data using train_test_split\nX_train , X_test , y_train , y_test = train_test_split(\n                                                        X,y,test_size=0.25,random_state=12,stratify=y   \n                                                    )\n\n#scaling the features  \nscaler = StandardScaler()\nX_train_scaled = pd.DataFrame(scaler.fit_transform(X_train), columns=X_train.columns)\nX_test_scaled = pd.DataFrame(scaler.transform(X_test), columns=X_test.columns)\n",
    "outputsMetadata": {
     "0": {
      "height": 311,
      "type": "stream"
     }
    }
   },
   "outputs": [],
   "source": [
    "X = crops.drop(\"crop\",axis=1)\n",
    "y = crops[\"crop\"]\n",
    "#splitting data using train_test_split\n",
    "X_train , X_test , y_train , y_test = train_test_split(\n",
    "                                                        X,y,test_size=0.25,random_state=12,stratify=y   \n",
    "                                                    )\n",
    "\n",
    "#scaling the features  \n",
    "scaler = StandardScaler()\n",
    "X_train_scaled = pd.DataFrame(scaler.fit_transform(X_train), columns=X_train.columns)\n",
    "X_test_scaled = pd.DataFrame(scaler.transform(X_test), columns=X_test.columns)\n"
   ]
  },
  {
   "cell_type": "markdown",
   "id": "52a8e39d-a830-4d28-a912-0cdb75f8fe02",
   "metadata": {},
   "source": [
    "## Evaluate Feature performance"
   ]
  },
  {
   "cell_type": "code",
   "execution_count": 42,
   "id": "b5282749-7287-4ee3-b7ed-fe685c7d1f5b",
   "metadata": {
    "collapsed": true,
    "executionCancelledAt": null,
    "executionTime": 1720,
    "jupyter": {
     "outputs_hidden": true,
     "source_hidden": false
    },
    "lastExecutedAt": 1742211284996,
    "lastExecutedByKernel": "ae7163a0-2db1-46cd-b7f6-76c01ca156d1",
    "lastScheduledRunId": null,
    "lastSuccessfullyExecutedCode": "features_score = {}\nbest_predictive_feature = {}\nbest_feature = \"\"\nfor feature in [\"N\",\"P\",\"K\",\"ph\"]:\n    log_reg = LogisticRegression(multi_class=\"multinomial\")\n    log_reg.fit(X_train_scaled[[feature]],y_train)\n    y_pred = log_reg.predict(X_test_scaled[[feature]])\n    #F1 score is good evaluation metric for classification problems with a balance in between       precision and recall (their harmonic mean) \n    #A high f1 score means that model is performing well both in terms of capturing majority of     positive cases aswell as those positive predictions accurate\n    score = metrics.f1_score(y_test,y_pred,average=\"weighted\")\n    if not best_feature:\n        best_feature = feature\n        best_predictive_feature[best_feature] = score\n    else:\n        if score > best_predictive_feature[best_feature]:\n            best_feature = feature\n            best_predictive_feature = {}\n            best_predictive_feature[best_feature] = score\n    features_score[feature] = score\n    print(f\"F1-score for {feature}: {score}\")\n",
    "outputsMetadata": {
     "0": {
      "height": 143,
      "type": "stream"
     }
    }
   },
   "outputs": [
    {
     "name": "stdout",
     "output_type": "stream",
     "text": [
      "F1-score for N: 0.1301079957841413\n",
      "F1-score for P: 0.16162244957757713\n",
      "F1-score for K: 0.19541622652475757\n",
      "F1-score for ph: 0.07064185491241427\n"
     ]
    }
   ],
   "source": [
    "features_score = {}\n",
    "best_predictive_feature = {}\n",
    "best_feature = \"\"\n",
    "for feature in [\"N\",\"P\",\"K\",\"ph\"]:\n",
    "    log_reg = LogisticRegression(multi_class=\"multinomial\")\n",
    "    log_reg.fit(X_train_scaled[[feature]],y_train)\n",
    "    y_pred = log_reg.predict(X_test_scaled[[feature]])\n",
    "    #F1 score is good evaluation metric for classification problems with a balance in between       precision and recall (their harmonic mean) \n",
    "    #A high f1 score means that model is performing well both in terms of capturing majority of     positive cases aswell as those positive predictions accurate\n",
    "    score = metrics.f1_score(y_test,y_pred,average=\"weighted\")\n",
    "    if not best_feature:\n",
    "        best_feature = feature\n",
    "        best_predictive_feature[best_feature] = score\n",
    "    else:\n",
    "        if score > best_predictive_feature[best_feature]:\n",
    "            best_feature = feature\n",
    "            best_predictive_feature = {}\n",
    "            best_predictive_feature[best_feature] = score\n",
    "    features_score[feature] = score\n",
    "    print(f\"F1-score for {feature}: {score}\")\n"
   ]
  },
  {
   "cell_type": "markdown",
   "id": "12d3f1eb-2bfa-4892-8fa4-ccf6cff5ddcf",
   "metadata": {},
   "source": [
    "## Best Predictive Feature"
   ]
  },
  {
   "cell_type": "code",
   "execution_count": 43,
   "id": "592932a9-7a5e-4540-9d5f-1119288bfb0c",
   "metadata": {
    "executionCancelledAt": null,
    "executionTime": 48,
    "lastExecutedAt": 1742211285044,
    "lastExecutedByKernel": "ae7163a0-2db1-46cd-b7f6-76c01ca156d1",
    "lastScheduledRunId": null,
    "lastSuccessfullyExecutedCode": "print(best_predictive_feature)",
    "outputsMetadata": {
     "0": {
      "height": 38,
      "type": "stream"
     }
    }
   },
   "outputs": [
    {
     "name": "stdout",
     "output_type": "stream",
     "text": [
      "{'K': 0.19541622652475757}\n"
     ]
    }
   ],
   "source": [
    "print(best_predictive_feature)"
   ]
  }
 ],
 "metadata": {
  "colab": {
   "name": "Welcome to DataCamp Workspaces.ipynb",
   "provenance": []
  },
  "kernelspec": {
   "display_name": "Python 3 (ipykernel)",
   "language": "python",
   "name": "python3"
  },
  "language_info": {
   "codemirror_mode": {
    "name": "ipython",
    "version": 3
   },
   "file_extension": ".py",
   "mimetype": "text/x-python",
   "name": "python",
   "nbconvert_exporter": "python",
   "pygments_lexer": "ipython3",
   "version": "3.8.10"
  }
 },
 "nbformat": 4,
 "nbformat_minor": 5
}
